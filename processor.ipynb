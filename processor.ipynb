{
 "cells": [
  {
   "cell_type": "code",
   "execution_count": 3,
   "metadata": {},
   "outputs": [],
   "source": [
    "import pandas as pd\n",
    "import itertools"
   ]
  },
  {
   "cell_type": "code",
   "execution_count": 4,
   "metadata": {},
   "outputs": [],
   "source": [
    "kline_size = \"1m\"\n",
    "symbols = [\"XBTUSD\", \"ETHUSD\", \"XRPZ18\", \"BCHZ18\"]\n",
    "features = [\"close\", \"trades\", \"volume\", \"vwap\", \"turnover\"]"
   ]
  },
  {
   "cell_type": "code",
   "execution_count": null,
   "metadata": {},
   "outputs": [],
   "source": [
    "def prepare_df(symbols, kline_size, features, reduce = False):\n",
    "    main_df = pd.DataFrame()\n",
    "    selected_columns = []\n",
    "    if symbols == [\"XBTUSD\", \"ETHUSD\", \"XRPZ18\", \"LTCZ18\", \"EOSZ18\", \"BCHZ18\", \"ADAZ18\", \"TRXZ18\"]:\n",
    "        file_path = f'Merged-{kline_size}-data.csv'\n",
    "        main_df = pd.read_csv(file_path)\n",
    "        main_df.set_index(\"timestamp\", inplace=True)\n",
    "    else:\n",
    "        for symbol in symbols:\n",
    "            file_path = f'{symbol}-{kline_size}-data.csv'\n",
    "            df = pd.read_csv(file_path)\n",
    "            df.rename(columns={\"close\": f\"{symbol}_close\",\n",
    "                               \"high\": f\"{symbol}_high\",\n",
    "                               \"low\": f\"{symbol}_low\",\n",
    "                               \"open\": f\"{symbol}_open\",\n",
    "                               \"trades\": f\"{symbol}_trades\",\n",
    "                               \"volume\": f\"{symbol}_volume\",\n",
    "                               \"vwap\": f\"{symbol}_vwap\",\n",
    "                               \"turnover\": f\"{symbol}_turnover\"}, inplace=True)\n",
    "            df.set_index(\"timestamp\", inplace=True)\n",
    "            if len(main_df)==0:\n",
    "                main_df = df\n",
    "            else:\n",
    "                main_df = main_df.join(df)\n",
    "    \n",
    "    for symbol, feature in itertools.product(symbols, features):\n",
    "        selected_columns.append(f\"{symbol}_{feature}\")\n",
    "    \n",
    "    main_df.drop([c for c in main_df if c not in selected_columns], axis = \"columns\", inplace = True)\n",
    "    \n",
    "    if reduce:\n",
    "        main_df[main_df==np.inf]=np.nan\n",
    "        main_df.fillna(method=\"ffill\", inplace=True)  # if there are gaps in data, use previously known values\n",
    "        main_df.dropna(inplace=True)\n",
    "    \n",
    "    return main_df"
   ]
  },
  {
   "cell_type": "code",
   "execution_count": null,
   "metadata": {},
   "outputs": [],
   "source": [
    "my_df = prepare_df(symbols, kline_size, features, reduce = True)\n",
    "my_df.describe()"
   ]
  }
 ],
 "metadata": {
  "kernelspec": {
   "display_name": "Python 3",
   "language": "python",
   "name": "python3"
  },
  "language_info": {
   "codemirror_mode": {
    "name": "ipython",
    "version": 3
   },
   "file_extension": ".py",
   "mimetype": "text/x-python",
   "name": "python",
   "nbconvert_exporter": "python",
   "pygments_lexer": "ipython3",
   "version": "3.6.7"
  }
 },
 "nbformat": 4,
 "nbformat_minor": 2
}
